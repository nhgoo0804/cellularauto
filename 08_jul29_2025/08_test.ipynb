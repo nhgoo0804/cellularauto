{
 "cells": [
  {
   "cell_type": "code",
   "execution_count": 1,
   "id": "f521c7af",
   "metadata": {},
   "outputs": [],
   "source": [
    "import numpy as np\n",
    "import matplotlib.pyplot as plt\n",
    "from dataclasses import dataclass\n",
    "from typing import List, Tuple, Dict, Set\n",
    "\n",
    "from setting_ca import * \n"
   ]
  },
  {
   "cell_type": "code",
   "execution_count": 2,
   "id": "ac99711f",
   "metadata": {},
   "outputs": [
    {
     "name": "stdout",
     "output_type": "stream",
     "text": [
      "Created heavily deformed microstructure\n",
      "  Initial stored energy range: 7.29e+05 - 1.54e+08 J/m³\n",
      "  Mean KAM: 10.02°, Max KAM: 62.80°\n",
      "\n",
      "Initial state:\n",
      "  Grains: 35\n",
      "  Rex fraction: 0.000\n",
      "  Mean stored energy: 1.31e+07 J/m³\n",
      "  Number of low energy cells: 6626\n",
      "\n",
      "Starting simulation...\n"
     ]
    }
   ],
   "source": [
    "\n",
    "ca = CellularAutomatonRexGG()\n",
    "    \n",
    "# History tracking\n",
    "history = {\n",
    "    'time': [],\n",
    "    'rex_fraction': [],\n",
    "    'n_orientations': [],\n",
    "    'mean_kam': [],\n",
    "    'mean_stored_energy': [],\n",
    "    'microstructure': [],\n",
    "    'stored_energy_map': [],\n",
    "    'kam_map': []\n",
    "}\n",
    "\n",
    "# Store initial state\n",
    "stats = ca.get_statistics()\n",
    "history['time'].append(0.0)\n",
    "history['rex_fraction'].append(stats['rex_fraction'])\n",
    "history['n_orientations'].append(stats['n_orientations'])\n",
    "history['mean_kam'].append(stats['mean_kam'])\n",
    "history['mean_stored_energy'].append(stats['mean_stored_energy'])\n",
    "history['microstructure'].append(ca.orientation_id.reshape(ca.nx, ca.ny).copy())\n",
    "history['stored_energy_map'].append(ca.stored_energy.reshape(ca.nx, ca.ny).copy())\n",
    "history['kam_map'].append(ca.kam.reshape(ca.nx, ca.ny).copy())\n",
    "\n",
    "print(f\"\\nInitial state:\")\n",
    "print(f\"  Grains: {stats['n_orientations']}\")\n",
    "print(f\"  Rex fraction: {stats['rex_fraction']:.3f}\")\n",
    "print(f\"  Mean stored energy: {stats['mean_stored_energy']:.2e} J/m³\")\n",
    "print(f\"  Number of low energy cells: {np.sum(ca.stored_energy < 0.5 * np.mean(ca.stored_energy))}\")\n",
    "print(f\"\\nStarting simulation...\")\n",
    "    \n",
    "    "
   ]
  },
  {
   "cell_type": "code",
   "execution_count": null,
   "id": "f539495a",
   "metadata": {},
   "outputs": [],
   "source": []
  }
 ],
 "metadata": {
  "kernelspec": {
   "display_name": "fipy_env",
   "language": "python",
   "name": "python3"
  },
  "language_info": {
   "codemirror_mode": {
    "name": "ipython",
    "version": 3
   },
   "file_extension": ".py",
   "mimetype": "text/x-python",
   "name": "python",
   "nbconvert_exporter": "python",
   "pygments_lexer": "ipython3",
   "version": "3.10.16"
  }
 },
 "nbformat": 4,
 "nbformat_minor": 5
}
