{
 "cells": [
  {
   "cell_type": "code",
   "execution_count": 51,
   "id": "a51b431f-b828-4a39-82ba-523b4d8c1eea",
   "metadata": {},
   "outputs": [],
   "source": [
    "import damask\n",
    "import numpy as np\n",
    "import pandas as pd "
   ]
  },
  {
   "cell_type": "code",
   "execution_count": null,
   "id": "308fdc7c-e057-4c92-a063-dee72bba93a2",
   "metadata": {
    "tags": []
   },
   "outputs": [],
   "source": [
    "\n",
    "import os\n",
    "base_path = os.path.abspath(\"../hdf5s\")  # Get absolute path of \"hdf5s\" folder\n",
    "\n",
    "file100 = os.path.join(base_path, \"100grains_rollingX_material.hdf5\")\n",
    "file200 = os.path.join(base_path, \"200grains_rollingX_material.hdf5\")\n",
    "\n",
    "file2 = os.path.join(base_path, \"100grains-2_rollingX_material.hdf5\")\n",
    "file3 = os.path.join(base_path, \"100grains-3_rollingX_material.hdf5\")\n",
    "file4 = os.path.join(base_path, \"100grains-4_rollingX_material.hdf5\")\n",
    "\n",
    "grid_file100 = os.path.join(base_path, \"100grains.vti\")\n",
    "grid_file200 = os.path.join(base_path, \"200grains.vti\")\n",
    "\n",
    "grid_file2 = os.path.join(base_path, \"100grains-2.vti\")\n",
    "grid_file3 = os.path.join(base_path, \"100grains-3.vti\")\n",
    "grid_file4 = os.path.join(base_path, \"100grains-4.vti\")"
   ]
  },
  {
   "cell_type": "code",
   "execution_count": 53,
   "id": "d39ab74a-07c8-437b-bcca-a3514d6669d9",
   "metadata": {
    "tags": []
   },
   "outputs": [],
   "source": [
    "result = damask.Result(result_file)\n",
    "result = result.view(increments=3000)"
   ]
  },
  {
   "cell_type": "code",
   "execution_count": 54,
   "id": "e3107291-6342-441d-9a00-0596153e7bfd",
   "metadata": {
    "tags": []
   },
   "outputs": [],
   "source": [
    "test = result.get('O')"
   ]
  },
  {
   "cell_type": "markdown",
   "id": "a80cd07c",
   "metadata": {},
   "source": []
  },
  {
   "cell_type": "code",
   "execution_count": 55,
   "id": "a2edb5c6-d8ab-4d0d-ae49-bb1e9d4c48d8",
   "metadata": {
    "tags": []
   },
   "outputs": [
    {
     "data": {
      "text/plain": [
       "32768"
      ]
     },
     "execution_count": 55,
     "metadata": {},
     "output_type": "execute_result"
    }
   ],
   "source": [
    "len(test)"
   ]
  },
  {
   "cell_type": "code",
   "execution_count": 56,
   "id": "fbb557e3-8253-4bd1-b011-5ca6822f1680",
   "metadata": {
    "tags": []
   },
   "outputs": [],
   "source": [
    "t_euler = damask.Rotation(test).as_Euler_angles()"
   ]
  },
  {
   "cell_type": "code",
   "execution_count": 57,
   "id": "ff5b3461-0d7d-4ec9-ac07-2a4464f3d0ec",
   "metadata": {
    "tags": []
   },
   "outputs": [
    {
     "data": {
      "text/plain": [
       "array([[5.61422621, 0.13139453, 0.99450282],\n",
       "       [4.62532738, 0.16540509, 1.91467066],\n",
       "       [2.11689123, 0.11741362, 4.61134333],\n",
       "       ...,\n",
       "       [4.77769271, 0.05275046, 1.78693519],\n",
       "       [5.06284018, 0.14097981, 1.61345585],\n",
       "       [4.69503788, 0.14596956, 1.93443892]])"
      ]
     },
     "execution_count": 57,
     "metadata": {},
     "output_type": "execute_result"
    }
   ],
   "source": [
    "t_euler"
   ]
  },
  {
   "cell_type": "code",
   "execution_count": 58,
   "id": "6fd37fa1-7dbd-4766-bee5-fe0d993da9bd",
   "metadata": {
    "tags": []
   },
   "outputs": [
    {
     "data": {
      "text/plain": [
       "32768"
      ]
     },
     "execution_count": 58,
     "metadata": {},
     "output_type": "execute_result"
    }
   ],
   "source": [
    "len(t_euler)"
   ]
  },
  {
   "cell_type": "code",
   "execution_count": 59,
   "id": "d31d8724-aa77-476a-8ab9-9b1b7658d940",
   "metadata": {
    "tags": []
   },
   "outputs": [],
   "source": [
    "np.savetxt('teuler4000.ang', t_euler)"
   ]
  },
  {
   "cell_type": "code",
   "execution_count": null,
   "id": "76cb981f-d22b-40e0-9be1-c9da6db9ac7f",
   "metadata": {},
   "outputs": [],
   "source": []
  }
 ],
 "metadata": {
  "kernelspec": {
   "display_name": "base",
   "language": "python",
   "name": "python3"
  },
  "language_info": {
   "codemirror_mode": {
    "name": "ipython",
    "version": 3
   },
   "file_extension": ".py",
   "mimetype": "text/x-python",
   "name": "python",
   "nbconvert_exporter": "python",
   "pygments_lexer": "ipython3",
   "version": "3.11.5"
  }
 },
 "nbformat": 4,
 "nbformat_minor": 5
}
