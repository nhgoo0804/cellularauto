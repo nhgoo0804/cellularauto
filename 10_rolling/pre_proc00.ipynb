{
 "cells": [
  {
   "cell_type": "code",
   "execution_count": 1,
   "id": "ffd0449a-6050-431b-9f2e-0b646e9cdff2",
   "metadata": {
    "tags": []
   },
   "outputs": [],
   "source": [
    "import damask\n",
    "import numpy as np \n",
    "import matplotlib.pyplot as plt"
   ]
  },
  {
   "cell_type": "code",
   "execution_count": 2,
   "id": "83ddef5d-da18-4880-bb59-b7f6b3c868fb",
   "metadata": {},
   "outputs": [],
   "source": [
    "def orientations(file, how_many):\n",
    "    \n",
    "    ang_tab = damask.Table.load(file)\n",
    "    phi1 = ang_tab.get('phi1')\n",
    "    PHI = ang_tab.get('PHI')\n",
    "    phi2 = ang_tab.get('phi2')\n",
    "    weight = ang_tab.get('weight')\n",
    "\n",
    "    phi = np.hstack((phi1, PHI, phi2))\n",
    "    \n",
    "    eur_list = []\n",
    "    quat_list = []\n",
    "\n",
    "    for cnt in range(how_many):\n",
    "        quaternion = damask.Orientation.from_ODF(weights = weight, phi = phi, degrees=True, family = 'cubic')\n",
    "        eur_list.append(damask.Rotation(quaternion).as_Euler_angles())\n",
    "        quat_list.append(quaternion)\n",
    "        \n",
    "    # This function returns the two listings, eulr_list and quaterinian list \n",
    "    return eur_list, quat_list"
   ]
  },
  {
   "cell_type": "code",
   "execution_count": 3,
   "id": "0432f404-1666-4b2d-88cc-31f21f081186",
   "metadata": {},
   "outputs": [],
   "source": [
    "file = 'takajo_55.ang'"
   ]
  },
  {
   "cell_type": "code",
   "execution_count": 4,
   "id": "f5878a6c",
   "metadata": {},
   "outputs": [],
   "source": [
    "ang_tab = damask.Table.load(file)"
   ]
  },
  {
   "cell_type": "code",
   "execution_count": 5,
   "id": "725c0d3a",
   "metadata": {},
   "outputs": [
    {
     "data": {
      "text/plain": [
       "\n",
       "      phi1   PHI  phi2   weight\n",
       "0      0.0   0.0   0.0  0.80139\n",
       "1      5.0   0.0   0.0  0.89851\n",
       "2     10.0   0.0   0.0  1.03010\n",
       "3     15.0   0.0   0.0  0.95563\n",
       "4     20.0   0.0   0.0  0.71735\n",
       "...    ...   ...   ...      ...\n",
       "6151  65.0  90.0  85.0  0.61791\n",
       "6152  70.0  90.0  85.0  0.65936\n",
       "6153  75.0  90.0  85.0  0.85311\n",
       "6154  80.0  90.0  85.0  0.89951\n",
       "6155  85.0  90.0  85.0  0.77346\n",
       "\n",
       "[6156 rows x 4 columns]"
      ]
     },
     "execution_count": 5,
     "metadata": {},
     "output_type": "execute_result"
    }
   ],
   "source": [
    "ang_tab"
   ]
  },
  {
   "cell_type": "code",
   "execution_count": null,
   "id": "7ddadfc6",
   "metadata": {},
   "outputs": [],
   "source": []
  },
  {
   "cell_type": "code",
   "execution_count": 6,
   "id": "a1a5745f-c48b-4719-bd9c-4a0424ad0a15",
   "metadata": {},
   "outputs": [],
   "source": [
    "test = orientations(file, 3)"
   ]
  },
  {
   "cell_type": "code",
   "execution_count": 7,
   "id": "7508b1f3-af7f-4495-945e-b3cf2c002e9e",
   "metadata": {
    "tags": []
   },
   "outputs": [
    {
     "data": {
      "text/plain": [
       "3"
      ]
     },
     "execution_count": 7,
     "metadata": {},
     "output_type": "execute_result"
    }
   ],
   "source": [
    "len(test[1])"
   ]
  },
  {
   "cell_type": "code",
   "execution_count": 8,
   "id": "af7a4d50-9ea6-4822-8d32-0fb69e391166",
   "metadata": {
    "tags": []
   },
   "outputs": [],
   "source": [
    "config_material = damask.ConfigMaterial()"
   ]
  },
  {
   "cell_type": "code",
   "execution_count": 9,
   "id": "7f930592-76e0-4e5f-ba72-0a4373a2c013",
   "metadata": {
    "tags": []
   },
   "outputs": [
    {
     "data": {
      "text/plain": [
       "homogenization: {}\n",
       "phase: {}\n",
       "material: []"
      ]
     },
     "execution_count": 9,
     "metadata": {},
     "output_type": "execute_result"
    }
   ],
   "source": [
    "config_material"
   ]
  },
  {
   "cell_type": "code",
   "execution_count": 10,
   "id": "75f34003-a0ae-45db-96fb-3afe6bc77597",
   "metadata": {
    "tags": []
   },
   "outputs": [],
   "source": [
    "# based on the upcoming contents in the config_material calss, \n",
    "# we need to defien three major things, homogenization scheme, 'homogenization'\n",
    "# phase description 'phase'\n",
    "# material informaiton 'material' \n",
    "\n",
    "#config_material['homogenization']['dummy'] = {'N_constituents':1, 'mechanical':{'type':'pass'}}\n",
    "#config_material['phase']['BCC'] = damask.ConfigMaterial.load('mat00.yaml')"
   ]
  },
  {
   "cell_type": "code",
   "execution_count": 11,
   "id": "88da4cd8-3455-45f2-8d7d-07e8978ba948",
   "metadata": {
    "tags": []
   },
   "outputs": [],
   "source": [
    "config_material = damask.ConfigMaterial.load('material_zero.yaml')"
   ]
  },
  {
   "cell_type": "code",
   "execution_count": 12,
   "id": "e0e4c4f0-ba03-4a32-b3b0-c8cf9751a4cd",
   "metadata": {
    "tags": []
   },
   "outputs": [
    {
     "data": {
      "text/plain": [
       "homogenization:\n",
       "  SX:\n",
       "    N_constituents: 1\n",
       "    mechanical: {type: pass}\n",
       "phase:\n",
       "  BCC:\n",
       "    lattice: cI\n",
       "    mechanical:\n",
       "      output: [F, P, F_e, F_p, L_p, O]\n",
       "      elastic: {type: Hooke, C_11: 106750000000.0, C_12: 60410000000.0, C_44: 28340000000.0}\n",
       "      plastic:\n",
       "        type: phenopowerlaw\n",
       "        N_sl: [12]\n",
       "        a_sl: 2.25\n",
       "        atol_xi: 1.0\n",
       "        dot_gamma_0_sl: 0.001\n",
       "        h_0_sl-sl: 75000000.0\n",
       "        h_sl-sl: [1, 1, 1.4, 1.4, 1.4, 1.4, 1.4]\n",
       "        n_sl: 20\n",
       "        output: [xi_sl]\n",
       "        xi_0_sl: [31000000.0]\n",
       "        xi_inf_sl: [63000000.0]"
      ]
     },
     "execution_count": 12,
     "metadata": {},
     "output_type": "execute_result"
    }
   ],
   "source": [
    "config_material"
   ]
  },
  {
   "cell_type": "code",
   "execution_count": 13,
   "id": "6774e1fc-0477-49bd-b26d-91d75e628fac",
   "metadata": {},
   "outputs": [],
   "source": [
    "config_material = config_material.material_add(homogenization='SX', phase = 'BCC', O = test[1])"
   ]
  },
  {
   "cell_type": "code",
   "execution_count": 14,
   "id": "2c014d1c-81a2-44c6-945b-aae58d9234ef",
   "metadata": {
    "tags": []
   },
   "outputs": [],
   "source": [
    "#config_material['phase']['BCC']['mechanical']['plastic']['xi_0_sl'][0]*=1.2"
   ]
  },
  {
   "cell_type": "code",
   "execution_count": 15,
   "id": "2b2acd6a-5375-45a0-a25a-e04cd513a161",
   "metadata": {},
   "outputs": [
    {
     "data": {
      "text/plain": [
       "3"
      ]
     },
     "execution_count": 15,
     "metadata": {},
     "output_type": "execute_result"
    }
   ],
   "source": [
    "len(config_material['material'])"
   ]
  },
  {
   "cell_type": "code",
   "execution_count": 16,
   "id": "f8702055-ee79-4e38-8047-3fd6ef6ded3a",
   "metadata": {
    "tags": []
   },
   "outputs": [
    {
     "data": {
      "text/plain": [
       "homogenization:\n",
       "  SX:\n",
       "    N_constituents: 1\n",
       "    mechanical: {type: pass}\n",
       "phase:\n",
       "  BCC:\n",
       "    lattice: cI\n",
       "    mechanical:\n",
       "      output: [F, P, F_e, F_p, L_p, O]\n",
       "      elastic: {type: Hooke, C_11: 106750000000.0, C_12: 60410000000.0, C_44: 28340000000.0}\n",
       "      plastic:\n",
       "        type: phenopowerlaw\n",
       "        N_sl: [12]\n",
       "        a_sl: 2.25\n",
       "        atol_xi: 1.0\n",
       "        dot_gamma_0_sl: 0.001\n",
       "        h_0_sl-sl: 75000000.0\n",
       "        h_sl-sl: [1, 1, 1.4, 1.4, 1.4, 1.4, 1.4]\n",
       "        n_sl: 20\n",
       "        output: [xi_sl]\n",
       "        xi_0_sl: [31000000.0]\n",
       "        xi_inf_sl: [63000000.0]\n",
       "material:\n",
       "- constituents:\n",
       "  - phase: BCC\n",
       "    O: [0.8848246737055843, 0.20338670806338613, -0.07402670778046234, 0.41260052147341175]\n",
       "    v: 1.0\n",
       "  homogenization: SX\n",
       "- constituents:\n",
       "  - phase: BCC\n",
       "    O: [0.38268343236508984, 0.0, 0.0, 0.9238795325112867]\n",
       "    v: 1.0\n",
       "  homogenization: SX\n",
       "- constituents:\n",
       "  - phase: BCC\n",
       "    O: [0.42169572290644275, 0.4869588190164687, 0.22707262651349336, 0.7303984174084459]\n",
       "    v: 1.0\n",
       "  homogenization: SX"
      ]
     },
     "execution_count": 16,
     "metadata": {},
     "output_type": "execute_result"
    }
   ],
   "source": [
    "config_material"
   ]
  },
  {
   "cell_type": "code",
   "execution_count": 17,
   "id": "1a40a9da-850c-4de7-b2ed-ae52ce5c6f30",
   "metadata": {
    "tags": []
   },
   "outputs": [],
   "source": [
    "config_material.save('material.yaml')"
   ]
  },
  {
   "cell_type": "code",
   "execution_count": null,
   "id": "f2ccfb54-eadf-4613-8711-362bc8607d9e",
   "metadata": {},
   "outputs": [],
   "source": []
  },
  {
   "cell_type": "code",
   "execution_count": null,
   "id": "2a2f31bc-4e3b-4be9-a929-a6726cefa8d5",
   "metadata": {},
   "outputs": [],
   "source": []
  }
 ],
 "metadata": {
  "kernelspec": {
   "display_name": "damask01",
   "language": "python",
   "name": "python3"
  },
  "language_info": {
   "codemirror_mode": {
    "name": "ipython",
    "version": 3
   },
   "file_extension": ".py",
   "mimetype": "text/x-python",
   "name": "python",
   "nbconvert_exporter": "python",
   "pygments_lexer": "ipython3",
   "version": "3.13.5"
  }
 },
 "nbformat": 4,
 "nbformat_minor": 5
}
