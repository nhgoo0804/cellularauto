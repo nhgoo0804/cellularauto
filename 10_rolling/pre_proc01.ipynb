{
 "cells": [
  {
   "cell_type": "code",
   "execution_count": 1,
   "id": "ffd0449a-6050-431b-9f2e-0b646e9cdff2",
   "metadata": {
    "tags": []
   },
   "outputs": [],
   "source": [
    "import damask\n",
    "import numpy as np \n",
    "import matplotlib.pyplot as plt\n",
    "from pre_proc import * "
   ]
  },
  {
   "cell_type": "code",
   "execution_count": 2,
   "id": "f2ccfb54-eadf-4613-8711-362bc8607d9e",
   "metadata": {},
   "outputs": [],
   "source": [
    "file1 = 'takajo_55.ang'\n",
    "file2 = 'takajo_75.ang'\n",
    "\n",
    "size = [287e-6, 175e-6, 1008e-6]\n",
    "cells = [41,25,144] \n",
    "N_grains = 200 "
   ]
  },
  {
   "cell_type": "code",
   "execution_count": 3,
   "id": "2a2f31bc-4e3b-4be9-a929-a6726cefa8d5",
   "metadata": {},
   "outputs": [],
   "source": [
    "microstructure= grain_gen(size, cells, N_grains)"
   ]
  },
  {
   "cell_type": "code",
   "execution_count": 4,
   "id": "3857a663",
   "metadata": {},
   "outputs": [
    {
     "data": {
      "text/plain": [
       "cells:  41 × 25 × 144\n",
       "size:   0.000287 × 0.000175 × 0.001008 m³\n",
       "origin: 0.0   0.0   0.0 m\n",
       "# materials: 200"
      ]
     },
     "execution_count": 4,
     "metadata": {},
     "output_type": "execute_result"
    }
   ],
   "source": [
    "microstructure"
   ]
  },
  {
   "cell_type": "code",
   "execution_count": 5,
   "id": "35b06fd2",
   "metadata": {},
   "outputs": [],
   "source": [
    "material_yaml(file2, N_grains)"
   ]
  },
  {
   "cell_type": "code",
   "execution_count": null,
   "id": "ff9cb796",
   "metadata": {},
   "outputs": [],
   "source": []
  }
 ],
 "metadata": {
  "kernelspec": {
   "display_name": "damask_post",
   "language": "python",
   "name": "python3"
  },
  "language_info": {
   "codemirror_mode": {
    "name": "ipython",
    "version": 3
   },
   "file_extension": ".py",
   "mimetype": "text/x-python",
   "name": "python",
   "nbconvert_exporter": "python",
   "pygments_lexer": "ipython3",
   "version": "3.13.1"
  }
 },
 "nbformat": 4,
 "nbformat_minor": 5
}
