{
 "cells": [
  {
   "cell_type": "code",
   "execution_count": 1,
   "id": "23dffde0-3e8c-476a-b445-559974bb19a4",
   "metadata": {},
   "outputs": [],
   "source": [
    "import damask\n",
    "import pandas as pd\n",
    "import numpy as np\n",
    "import matplotlib.pyplot as plt\n",
    "from grain_tools_a import *"
   ]
  },
  {
   "cell_type": "code",
   "execution_count": 2,
   "id": "5ffa4eb2-4e5a-4550-aff5-002380ccd64f",
   "metadata": {
    "tags": []
   },
   "outputs": [],
   "source": [
    "import os\n",
    "base_path = os.path.abspath(\"../hdf5s\")  # Get absolute path of \"hdf5s\" folder\n",
    "\n",
    "file100 = os.path.join(base_path, \"100grains_rollingX_material.hdf5\")\n",
    "file200 = os.path.join(base_path, \"200grains_rollingX_material.hdf5\")\n",
    "\n",
    "file2 = os.path.join(base_path, \"100grains-2_rollingX_material.hdf5\")\n",
    "file3 = os.path.join(base_path, \"100grains-3_rollingX_material.hdf5\")\n",
    "file4 = os.path.join(base_path, \"100grains-4_rollingX_material.hdf5\")\n",
    "\n",
    "grid_file100 = os.path.join(base_path, \"100grains.vti\")\n",
    "grid_file200 = os.path.join(base_path, \"200grains.vti\")\n",
    "\n",
    "grid_file2 = os.path.join(base_path, \"100grains-2.vti\")\n",
    "grid_file3 = os.path.join(base_path, \"100grains-3.vti\")\n",
    "grid_file4 = os.path.join(base_path, \"100grains-4.vti\")"
   ]
  },
  {
   "cell_type": "code",
   "execution_count": 3,
   "id": "fdc2841f",
   "metadata": {},
   "outputs": [],
   "source": [
    "inc_num = [0, 1000, 2000]\n",
    "for i_val in inc_num:\n",
    "    \n",
    "    vit_process(file200, 0, i_val)\n",
    "    qr_values = odf(file200, i_val)\n",
    "    np.savetxt(f'r31_{i_val}.ang', qr_values)\n"
   ]
  },
  {
   "cell_type": "code",
   "execution_count": null,
   "id": "176a7b09",
   "metadata": {},
   "outputs": [],
   "source": []
  }
 ],
 "metadata": {
  "kernelspec": {
   "display_name": "damask_post",
   "language": "python",
   "name": "python3"
  },
  "language_info": {
   "codemirror_mode": {
    "name": "ipython",
    "version": 3
   },
   "file_extension": ".py",
   "mimetype": "text/x-python",
   "name": "python",
   "nbconvert_exporter": "python",
   "pygments_lexer": "ipython3",
   "version": "3.13.1"
  }
 },
 "nbformat": 4,
 "nbformat_minor": 5
}
