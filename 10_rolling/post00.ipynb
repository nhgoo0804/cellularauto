{
 "cells": [
  {
   "cell_type": "code",
   "execution_count": 1,
   "id": "23dffde0-3e8c-476a-b445-559974bb19a4",
   "metadata": {},
   "outputs": [],
   "source": [
    "import damask"
   ]
  },
  {
   "cell_type": "code",
   "execution_count": null,
   "id": "5ffa4eb2-4e5a-4550-aff5-002380ccd64f",
   "metadata": {
    "tags": []
   },
   "outputs": [],
   "source": [
    "res_t = damask.Result('3grains_rollingX_material.hdf5')"
   ]
  },
  {
   "cell_type": "code",
   "execution_count": 3,
   "id": "0b9414d4-90d7-4d17-a663-c24ce9d650af",
   "metadata": {
    "tags": []
   },
   "outputs": [],
   "source": [
    "res_t.add_stress_Cauchy()"
   ]
  },
  {
   "cell_type": "code",
   "execution_count": 4,
   "id": "f76a1ade-ca59-45d9-acaf-c8b35e48d6f5",
   "metadata": {
    "tags": []
   },
   "outputs": [],
   "source": [
    "res_t.add_strain()"
   ]
  },
  {
   "cell_type": "code",
   "execution_count": 5,
   "id": "b1ad2d2a-be18-4275-9151-aa5c8560091b",
   "metadata": {
    "tags": []
   },
   "outputs": [],
   "source": [
    "res_t.add_strain('F_p')"
   ]
  },
  {
   "cell_type": "code",
   "execution_count": 6,
   "id": "1c109a38-ed9f-42de-8e6a-e4a3540cb184",
   "metadata": {
    "tags": []
   },
   "outputs": [
    {
     "name": "stdout",
     "output_type": "stream",
     "text": [
      "Help on method add_IPF_color in module damask._result:\n",
      "\n",
      "add_IPF_color(l: Union[numpy.ndarray, Sequence[float]], q: str = 'O') method of damask._result.Result instance\n",
      "    Add RGB color tuple of inverse pole figure (IPF) color.\n",
      "\n",
      "    Parameters\n",
      "    ----------\n",
      "    l : numpy.array of shape (3) or compatible\n",
      "        Lab frame direction for inverse pole figure.\n",
      "    q : str, optional\n",
      "        Name of the dataset containing the crystallographic orientation as quaternions.\n",
      "        Defaults to 'O'.\n",
      "\n",
      "    Examples\n",
      "    --------\n",
      "    Add the IPF color along [0,1,1] for orientation 'O':\n",
      "\n",
      "    >>> import damask\n",
      "    >>> r = damask.Result('my_file.hdf5')\n",
      "    >>> r.add_IPF_color(l = [0,1,1], q = 'O')\n",
      "    [...]\n",
      "\n"
     ]
    }
   ],
   "source": [
    "help(res_t.add_IPF_color)"
   ]
  },
  {
   "cell_type": "code",
   "execution_count": 7,
   "id": "3a98be5e-81c0-49ef-bc57-f613ab3054b9",
   "metadata": {
    "tags": []
   },
   "outputs": [],
   "source": [
    "res_t.add_IPF_color([1,0,0])"
   ]
  },
  {
   "cell_type": "code",
   "execution_count": 8,
   "id": "610a8bcb-ce21-4317-b5ad-e45f04c54675",
   "metadata": {
    "tags": []
   },
   "outputs": [],
   "source": [
    "res_t.export_VTK()"
   ]
  },
  {
   "cell_type": "code",
   "execution_count": null,
   "id": "ab226ddb",
   "metadata": {},
   "outputs": [],
   "source": []
  }
 ],
 "metadata": {
  "kernelspec": {
   "display_name": "damask01",
   "language": "python",
   "name": "python3"
  },
  "language_info": {
   "codemirror_mode": {
    "name": "ipython",
    "version": 3
   },
   "file_extension": ".py",
   "mimetype": "text/x-python",
   "name": "python",
   "nbconvert_exporter": "python",
   "pygments_lexer": "ipython3",
   "version": "3.13.5"
  }
 },
 "nbformat": 4,
 "nbformat_minor": 5
}
