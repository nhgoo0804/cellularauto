{
 "cells": [
  {
   "cell_type": "code",
   "execution_count": 1,
   "id": "c25600ed-1d7b-4b58-bb96-7652e9430b93",
   "metadata": {},
   "outputs": [],
   "source": [
    "import damask\n",
    "import numpy as np"
   ]
  },
  {
   "cell_type": "code",
   "execution_count": 2,
   "id": "51972acd-21e6-454f-9b09-1a1a749ee7bf",
   "metadata": {
    "tags": []
   },
   "outputs": [],
   "source": [
    "#size = np.ones(3)*1e-5\n",
    "size = [1000e-6, 1000e-6, 1008e-6]\n",
    "#size = [1008e-6, 175e-6, 287e-6]\n",
    "cells = [10,10,10] \n",
    "#cells = [144, 25,41]\n",
    "N_grains = 3"
   ]
  },
  {
   "cell_type": "code",
   "execution_count": 3,
   "id": "c5c45816-6318-48f5-bdba-e1144b018edc",
   "metadata": {
    "tags": []
   },
   "outputs": [
    {
     "data": {
      "text/plain": [
       "cells:  10 × 10 × 10\n",
       "size:   0.001 × 0.001 × 0.001008 m³\n",
       "origin: 0.0   0.0   0.0 m\n",
       "# materials: 3"
      ]
     },
     "execution_count": 3,
     "metadata": {},
     "output_type": "execute_result"
    }
   ],
   "source": [
    "seeds = damask.seeds.from_random(size,N_grains,cells)\n",
    "grid = damask.GeomGrid.from_Voronoi_tessellation(cells,size,seeds)\n",
    "#grid.save(f'{N_grains}_{cells[0]}x{cells[1]}x{cells[2]}')\n",
    "grid.save(f'{N_grains}grains')\n",
    "grid"
   ]
  },
  {
   "cell_type": "code",
   "execution_count": null,
   "id": "ee06e3d1-e245-468e-ab42-c99821da4a6c",
   "metadata": {},
   "outputs": [],
   "source": []
  }
 ],
 "metadata": {
  "kernelspec": {
   "display_name": "damask01",
   "language": "python",
   "name": "python3"
  },
  "language_info": {
   "codemirror_mode": {
    "name": "ipython",
    "version": 3
   },
   "file_extension": ".py",
   "mimetype": "text/x-python",
   "name": "python",
   "nbconvert_exporter": "python",
   "pygments_lexer": "ipython3",
   "version": "3.13.5"
  }
 },
 "nbformat": 4,
 "nbformat_minor": 5
}
