{
 "cells": [
  {
   "cell_type": "code",
   "execution_count": 1,
   "id": "8c8a273b",
   "metadata": {},
   "outputs": [],
   "source": [
    "import sys\n",
    "import numpy as np\n",
    "import pandas as pd\n",
    "import matplotlib.pyplot as plt\n",
    "from ca_3d_ebsd import *\n",
    "import yaml"
   ]
  },
  {
   "cell_type": "code",
   "execution_count": 2,
   "id": "a87a1841",
   "metadata": {},
   "outputs": [
    {
     "name": "stdout",
     "output_type": "stream",
     "text": [
      "Loading EBSD data from: realistic_ebsd_data.csv\n",
      "Grid: 20 x 20 x 10 cells\n",
      "Cell size: 1.000000 (units from EBSD data)\n",
      "Converting Euler angles to quaternions...\n",
      "Detecting grains from orientation data...\n",
      "Calculating KAM...\n",
      "Setting stored energy based on KAM values\n",
      "Stored energy range: 1.99e+04 - 7.87e+05 J/m³\n",
      "Detected 133 grains\n",
      "Mean stored energy: 1.56e+05 J/m³\n",
      "Initial boundary cells: 3939\n",
      "Initialized 3D CA with grid size: 20 x 20 x 10\n",
      "Total cells: 4000\n",
      "Note: Using ONLY Euler angles for CA simulation (no deformation data)\n",
      "\n",
      "Starting simulation...\n",
      "Max time: 100.0s\n",
      "Max steps: 100000\n",
      "Save interval: 100 steps\n",
      "Saved EBSD format data to: output_grain_growth1/step_000000_ebsd.csv\n",
      "Saved initial state to output_grain_growth1/step_000000.vti and output_grain_growth1/step_000000_ebsd.csv\n",
      "Saved EBSD format data to: output_grain_growth1/step_000100_ebsd.csv\n",
      "Step 100: t=5.738s, Rex=0.001, Grains=6, Elapsed=38.7s\n",
      "Saved EBSD format data to: output_grain_growth1/step_000200_ebsd.csv\n",
      "Step 200: t=75.507s, Rex=0.001, Grains=2, Elapsed=50.0s\n",
      "Saved EBSD format data to: output_grain_growth1/step_000225_final_ebsd.csv\n",
      "\n",
      "Simulation completed:\n",
      "  Total steps: 225\n",
      "  Final time: 100.507s\n",
      "  Final rex fraction: 0.001\n",
      "  Output saved to: output_grain_growth1\n"
     ]
    }
   ],
   "source": [
    "# Just run the simulation with your yaml file\n",
    "ca = CellularAutomatonRexGG3D_EBSD('grain_growth.yaml')\n",
    "history = ca.run_simulation()"
   ]
  },
  {
   "cell_type": "code",
   "execution_count": null,
   "id": "3a574c27",
   "metadata": {},
   "outputs": [],
   "source": []
  }
 ],
 "metadata": {
  "kernelspec": {
   "display_name": "fipy_env",
   "language": "python",
   "name": "python3"
  },
  "language_info": {
   "codemirror_mode": {
    "name": "ipython",
    "version": 3
   },
   "file_extension": ".py",
   "mimetype": "text/x-python",
   "name": "python",
   "nbconvert_exporter": "python",
   "pygments_lexer": "ipython3",
   "version": "3.10.16"
  }
 },
 "nbformat": 4,
 "nbformat_minor": 5
}
