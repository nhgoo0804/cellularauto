{
 "cells": [
  {
   "cell_type": "code",
   "execution_count": 1,
   "id": "f0e88296",
   "metadata": {},
   "outputs": [],
   "source": [
    "import sys\n",
    "import numpy as np\n",
    "import pandas as pd\n",
    "import matplotlib.pyplot as plt\n",
    "from ca_3d_ebsd import *"
   ]
  },
  {
   "cell_type": "code",
   "execution_count": 2,
   "id": "dcb41d10",
   "metadata": {},
   "outputs": [],
   "source": [
    "# Set random seed for reproducibility\n",
    "np.random.seed(42)"
   ]
  },
  {
   "cell_type": "code",
   "execution_count": 3,
   "id": "8b98b7a6",
   "metadata": {},
   "outputs": [
    {
     "name": "stdout",
     "output_type": "stream",
     "text": [
      "=== Testing Helper Functions ===\n",
      "\n",
      "1. Creating YAML configuration file...\n",
      "Created configuration file: config_ebsd.yaml\n",
      "✓ Config file created: config_ebsd.yaml\n",
      "\n",
      "2. Creating example EBSD data...\n",
      "Created example EBSD data: example_ebsd_data.csv\n",
      "✓ Example EBSD data created: example_ebsd_data.csv\n",
      "\n",
      "Example EBSD data shape: (500, 7)\n",
      "Columns: ['x', 'y', 'z', 'phi1', 'PHI', 'phi2', 'phase']\n",
      "\n",
      "First 5 rows:\n",
      "     x    y    z      phi1       PHI      phi2  phase\n",
      "0  0.0  0.0  0.0  0.993428 -0.276529  1.295377      1\n",
      "1  0.0  0.0  1.0  3.046060 -0.468307 -0.468274      1\n",
      "2  0.0  0.0  2.0  3.158426  1.534869 -0.938949      1\n",
      "3  0.0  0.0  3.0  1.085120 -0.926835 -0.931460      1\n",
      "4  0.0  0.0  4.0  0.483925 -3.826560 -3.449836      1\n"
     ]
    }
   ],
   "source": [
    "# %% [markdown]\n",
    "# ## 1. Test Helper Functions\n",
    "\n",
    "# %% Create configuration files\n",
    "print(\"=== Testing Helper Functions ===\")\n",
    "print(\"\\n1. Creating YAML configuration file...\")\n",
    "create_ebsd_yaml_config()\n",
    "print(\"✓ Config file created: config_ebsd.yaml\")\n",
    "\n",
    "print(\"\\n2. Creating example EBSD data...\")\n",
    "create_example_ebsd_data()\n",
    "print(\"✓ Example EBSD data created: example_ebsd_data.csv\")\n",
    "\n",
    "# Load and display the example data\n",
    "ebsd_df = pd.read_csv('example_ebsd_data.csv')\n",
    "print(f\"\\nExample EBSD data shape: {ebsd_df.shape}\")\n",
    "print(\"Columns:\", ebsd_df.columns.tolist())\n",
    "print(\"\\nFirst 5 rows:\")\n",
    "print(ebsd_df.head())"
   ]
  },
  {
   "cell_type": "code",
   "execution_count": 4,
   "id": "671b1b3a",
   "metadata": {},
   "outputs": [
    {
     "data": {
      "text/plain": [
       "500"
      ]
     },
     "execution_count": 4,
     "metadata": {},
     "output_type": "execute_result"
    }
   ],
   "source": [
    "len(ebsd_df)"
   ]
  },
  {
   "cell_type": "code",
   "execution_count": null,
   "id": "87d1ac11",
   "metadata": {},
   "outputs": [],
   "source": []
  }
 ],
 "metadata": {
  "kernelspec": {
   "display_name": "fipy_env",
   "language": "python",
   "name": "python3"
  },
  "language_info": {
   "codemirror_mode": {
    "name": "ipython",
    "version": 3
   },
   "file_extension": ".py",
   "mimetype": "text/x-python",
   "name": "python",
   "nbconvert_exporter": "python",
   "pygments_lexer": "ipython3",
   "version": "3.10.16"
  }
 },
 "nbformat": 4,
 "nbformat_minor": 5
}
